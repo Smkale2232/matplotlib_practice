{
 "cells": [
  {
   "cell_type": "code",
   "execution_count": 1,
   "metadata": {},
   "outputs": [],
   "source": [
    "import numpy as np \n",
    "import matplotlib.pyplot as plt "
   ]
  },
  {
   "cell_type": "code",
   "execution_count": 2,
   "metadata": {},
   "outputs": [],
   "source": [
    "# creating a list of \n",
    "# uniformly distributed values \n",
    "uniform = np.arange(-100, 100) "
   ]
  },
  {
   "cell_type": "code",
   "execution_count": 3,
   "metadata": {},
   "outputs": [],
   "source": [
    "# creating a list of normally \n",
    "# distributed values \n",
    "normal = np.random.normal(size = 100)*30"
   ]
  },
  {
   "cell_type": "code",
   "execution_count": 4,
   "metadata": {},
   "outputs": [
    {
     "data": {
      "image/png": "[encoded data removed]",
      "text/plain": [
       "<Figure size 900x400 with 2 Axes>"
      ]
     },
     "metadata": {},
     "output_type": "display_data"
    }
   ],
   "source": [
    "# creating figure and axes to \n",
    "# plot the image \n",
    "fig, (ax1, ax2) = plt.subplots(nrows = 1, \n",
    "                            ncols = 2, \n",
    "                            figsize =(9, 4), \n",
    "                            sharey = True) "
   ]
  },
  {
   "cell_type": "code",
   "execution_count": 5,
   "metadata": {},
   "outputs": [
    {
     "data": {
      "text/plain": [
       "{'bodies': [<matplotlib.collections.PolyCollection at 0x7006d55faf60>],\n",
       " 'cmaxes': <matplotlib.collections.LineCollection at 0x7006d5457c80>,\n",
       " 'cmins': <matplotlib.collections.LineCollection at 0x7006d5454b60>,\n",
       " 'cbars': <matplotlib.collections.LineCollection at 0x7006d54690a0>}"
      ]
     },
     "execution_count": 5,
     "metadata": {},
     "output_type": "execute_result"
    }
   ],
   "source": [
    "# plotting violin plot for \n",
    "# uniform distribution \n",
    "ax1.set_title('Uniform Distribution') \n",
    "ax1.set_ylabel('Observed values') \n",
    "ax1.violinplot(uniform)"
   ]
  },
  {
   "cell_type": "code",
   "execution_count": 6,
   "metadata": {},
   "outputs": [
    {
     "data": {
      "text/plain": [
       "{'bodies': [<matplotlib.collections.PolyCollection at 0x7006d5457ce0>],\n",
       " 'cmaxes': <matplotlib.collections.LineCollection at 0x7006d546a660>,\n",
       " 'cmins': <matplotlib.collections.LineCollection at 0x7006d54913a0>,\n",
       " 'cbars': <matplotlib.collections.LineCollection at 0x7006d54917f0>}"
      ]
     },
     "execution_count": 6,
     "metadata": {},
     "output_type": "execute_result"
    }
   ],
   "source": [
    "# plotting violin plot for \n",
    "# normal distribution \n",
    "ax2.set_title('Normal Distribution') \n",
    "ax2.violinplot(normal)"
   ]
  },
  {
   "cell_type": "code",
   "execution_count": 7,
   "metadata": {},
   "outputs": [],
   "source": [
    "# Function to show the plot \n",
    "plt.show()"
   ]
  }
 ],
 "metadata": {
  "kernelspec": {
   "display_name": "Python 3",
   "language": "python",
   "name": "python3"
  },
  "language_info": {
   "codemirror_mode": {
    "name": "ipython",
    "version": 3
   },
   "file_extension": ".py",
   "mimetype": "text/x-python",
   "name": "python",
   "nbconvert_exporter": "python",
   "pygments_lexer": "ipython3",
   "version": "3.12.3"
  }
 },
 "nbformat": 4,
 "nbformat_minor": 2
}
